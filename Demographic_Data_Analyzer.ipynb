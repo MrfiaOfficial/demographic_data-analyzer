{
 "cells": [
  {
   "cell_type": "markdown",
   "id": "07e2cb18",
   "metadata": {},
   "source": [
    "# Demographic Data Analyzer"
   ]
  },
  {
   "cell_type": "markdown",
   "id": "88652feb",
   "metadata": {},
   "source": [
    "## Some of the questions that will be answered:  \n",
    "    \n",
    "-    How many of each race are represented in this dataset? This should be a Pandas series with race names as the index labels.\n",
    "\n",
    "-    What is the average age of men?\n",
    "\n",
    "-    What is the percentage of people who have a Bachelor's degree?\n",
    "\n",
    "-    What percentage of people with advanced education (`Bachelors`, `Masters`, or `Doctorate`) make more than 50K?\n",
    "\n",
    "-    What percentage of people without advanced education make more than 50K?\n",
    "\n",
    "-    with and without `Bachelors`, `Masters`, or `Doctorate`\n",
    "\n",
    "-    Percentage with salary >50K\n",
    "\n",
    "-    What is the minimum number of hours a person works per week (hours-per-week feature)?\n",
    "\n",
    "-    What percentage of the people who work the minimum number of hours per week have a salary of >50K?\n",
    "\n",
    "-    What country has the highest percentage of people that earn >50K?\n",
    "\n",
    "-    Identify the most popular occupation for those who earn >50K in India."
   ]
  },
  {
   "cell_type": "code",
   "execution_count": null,
   "id": "142ddd08",
   "metadata": {},
   "outputs": [],
   "source": []
  },
  {
   "cell_type": "code",
   "execution_count": 1,
   "id": "201f00c7",
   "metadata": {},
   "outputs": [],
   "source": [
    "# Import needed packages\n",
    "import pandas as pd\n",
    "import numpy as np"
   ]
  },
  {
   "cell_type": "code",
   "execution_count": 2,
   "id": "d8cd06c9",
   "metadata": {},
   "outputs": [],
   "source": [
    "# Load our data\n",
    "df = pd.read_csv('adult.data.csv')"
   ]
  },
  {
   "cell_type": "code",
   "execution_count": 3,
   "id": "4ab450d1",
   "metadata": {},
   "outputs": [
    {
     "data": {
      "text/plain": [
       "(32561, 15)"
      ]
     },
     "execution_count": 3,
     "metadata": {},
     "output_type": "execute_result"
    }
   ],
   "source": [
    "df.shape"
   ]
  },
  {
   "cell_type": "code",
   "execution_count": 4,
   "id": "eb36b707",
   "metadata": {},
   "outputs": [
    {
     "name": "stdout",
     "output_type": "stream",
     "text": [
      "<class 'pandas.core.frame.DataFrame'>\n",
      "RangeIndex: 32561 entries, 0 to 32560\n",
      "Data columns (total 15 columns):\n",
      " #   Column          Non-Null Count  Dtype \n",
      "---  ------          --------------  ----- \n",
      " 0   age             32561 non-null  int64 \n",
      " 1   workclass       32561 non-null  object\n",
      " 2   fnlwgt          32561 non-null  int64 \n",
      " 3   education       32561 non-null  object\n",
      " 4   education-num   32561 non-null  int64 \n",
      " 5   marital-status  32561 non-null  object\n",
      " 6   occupation      32561 non-null  object\n",
      " 7   relationship    32561 non-null  object\n",
      " 8   race            32561 non-null  object\n",
      " 9   sex             32561 non-null  object\n",
      " 10  capital-gain    32561 non-null  int64 \n",
      " 11  capital-loss    32561 non-null  int64 \n",
      " 12  hours-per-week  32561 non-null  int64 \n",
      " 13  native-country  32561 non-null  object\n",
      " 14  salary          32561 non-null  object\n",
      "dtypes: int64(6), object(9)\n",
      "memory usage: 3.7+ MB\n"
     ]
    }
   ],
   "source": [
    "df.info()"
   ]
  },
  {
   "cell_type": "code",
   "execution_count": 5,
   "id": "0ac325f0",
   "metadata": {},
   "outputs": [
    {
     "data": {
      "text/html": [
       "<div>\n",
       "<style scoped>\n",
       "    .dataframe tbody tr th:only-of-type {\n",
       "        vertical-align: middle;\n",
       "    }\n",
       "\n",
       "    .dataframe tbody tr th {\n",
       "        vertical-align: top;\n",
       "    }\n",
       "\n",
       "    .dataframe thead th {\n",
       "        text-align: right;\n",
       "    }\n",
       "</style>\n",
       "<table border=\"1\" class=\"dataframe\">\n",
       "  <thead>\n",
       "    <tr style=\"text-align: right;\">\n",
       "      <th></th>\n",
       "      <th>age</th>\n",
       "      <th>workclass</th>\n",
       "      <th>fnlwgt</th>\n",
       "      <th>education</th>\n",
       "      <th>education-num</th>\n",
       "      <th>marital-status</th>\n",
       "      <th>occupation</th>\n",
       "      <th>relationship</th>\n",
       "      <th>race</th>\n",
       "      <th>sex</th>\n",
       "      <th>capital-gain</th>\n",
       "      <th>capital-loss</th>\n",
       "      <th>hours-per-week</th>\n",
       "      <th>native-country</th>\n",
       "      <th>salary</th>\n",
       "    </tr>\n",
       "  </thead>\n",
       "  <tbody>\n",
       "    <tr>\n",
       "      <th>0</th>\n",
       "      <td>39</td>\n",
       "      <td>State-gov</td>\n",
       "      <td>77516</td>\n",
       "      <td>Bachelors</td>\n",
       "      <td>13</td>\n",
       "      <td>Never-married</td>\n",
       "      <td>Adm-clerical</td>\n",
       "      <td>Not-in-family</td>\n",
       "      <td>White</td>\n",
       "      <td>Male</td>\n",
       "      <td>2174</td>\n",
       "      <td>0</td>\n",
       "      <td>40</td>\n",
       "      <td>United-States</td>\n",
       "      <td>&lt;=50K</td>\n",
       "    </tr>\n",
       "    <tr>\n",
       "      <th>1</th>\n",
       "      <td>50</td>\n",
       "      <td>Self-emp-not-inc</td>\n",
       "      <td>83311</td>\n",
       "      <td>Bachelors</td>\n",
       "      <td>13</td>\n",
       "      <td>Married-civ-spouse</td>\n",
       "      <td>Exec-managerial</td>\n",
       "      <td>Husband</td>\n",
       "      <td>White</td>\n",
       "      <td>Male</td>\n",
       "      <td>0</td>\n",
       "      <td>0</td>\n",
       "      <td>13</td>\n",
       "      <td>United-States</td>\n",
       "      <td>&lt;=50K</td>\n",
       "    </tr>\n",
       "    <tr>\n",
       "      <th>2</th>\n",
       "      <td>38</td>\n",
       "      <td>Private</td>\n",
       "      <td>215646</td>\n",
       "      <td>HS-grad</td>\n",
       "      <td>9</td>\n",
       "      <td>Divorced</td>\n",
       "      <td>Handlers-cleaners</td>\n",
       "      <td>Not-in-family</td>\n",
       "      <td>White</td>\n",
       "      <td>Male</td>\n",
       "      <td>0</td>\n",
       "      <td>0</td>\n",
       "      <td>40</td>\n",
       "      <td>United-States</td>\n",
       "      <td>&lt;=50K</td>\n",
       "    </tr>\n",
       "    <tr>\n",
       "      <th>3</th>\n",
       "      <td>53</td>\n",
       "      <td>Private</td>\n",
       "      <td>234721</td>\n",
       "      <td>11th</td>\n",
       "      <td>7</td>\n",
       "      <td>Married-civ-spouse</td>\n",
       "      <td>Handlers-cleaners</td>\n",
       "      <td>Husband</td>\n",
       "      <td>Black</td>\n",
       "      <td>Male</td>\n",
       "      <td>0</td>\n",
       "      <td>0</td>\n",
       "      <td>40</td>\n",
       "      <td>United-States</td>\n",
       "      <td>&lt;=50K</td>\n",
       "    </tr>\n",
       "    <tr>\n",
       "      <th>4</th>\n",
       "      <td>28</td>\n",
       "      <td>Private</td>\n",
       "      <td>338409</td>\n",
       "      <td>Bachelors</td>\n",
       "      <td>13</td>\n",
       "      <td>Married-civ-spouse</td>\n",
       "      <td>Prof-specialty</td>\n",
       "      <td>Wife</td>\n",
       "      <td>Black</td>\n",
       "      <td>Female</td>\n",
       "      <td>0</td>\n",
       "      <td>0</td>\n",
       "      <td>40</td>\n",
       "      <td>Cuba</td>\n",
       "      <td>&lt;=50K</td>\n",
       "    </tr>\n",
       "  </tbody>\n",
       "</table>\n",
       "</div>"
      ],
      "text/plain": [
       "   age         workclass  fnlwgt  education  education-num  \\\n",
       "0   39         State-gov   77516  Bachelors             13   \n",
       "1   50  Self-emp-not-inc   83311  Bachelors             13   \n",
       "2   38           Private  215646    HS-grad              9   \n",
       "3   53           Private  234721       11th              7   \n",
       "4   28           Private  338409  Bachelors             13   \n",
       "\n",
       "       marital-status         occupation   relationship   race     sex  \\\n",
       "0       Never-married       Adm-clerical  Not-in-family  White    Male   \n",
       "1  Married-civ-spouse    Exec-managerial        Husband  White    Male   \n",
       "2            Divorced  Handlers-cleaners  Not-in-family  White    Male   \n",
       "3  Married-civ-spouse  Handlers-cleaners        Husband  Black    Male   \n",
       "4  Married-civ-spouse     Prof-specialty           Wife  Black  Female   \n",
       "\n",
       "   capital-gain  capital-loss  hours-per-week native-country salary  \n",
       "0          2174             0              40  United-States  <=50K  \n",
       "1             0             0              13  United-States  <=50K  \n",
       "2             0             0              40  United-States  <=50K  \n",
       "3             0             0              40  United-States  <=50K  \n",
       "4             0             0              40           Cuba  <=50K  "
      ]
     },
     "execution_count": 5,
     "metadata": {},
     "output_type": "execute_result"
    }
   ],
   "source": [
    "df.head()"
   ]
  },
  {
   "cell_type": "markdown",
   "id": "c51de7d6",
   "metadata": {},
   "source": [
    "### # How many of each race are represented in this dataset? This should be a Pandas series with race names as the index labels."
   ]
  },
  {
   "cell_type": "code",
   "execution_count": 6,
   "id": "792ec3ad",
   "metadata": {},
   "outputs": [],
   "source": [
    "#race_counts_length = len(df.race.unique())\n",
    "#race_count"
   ]
  },
  {
   "cell_type": "code",
   "execution_count": 7,
   "id": "27cf03ba",
   "metadata": {},
   "outputs": [
    {
     "data": {
      "text/plain": [
       "White                 27816\n",
       "Black                  3124\n",
       "Asian-Pac-Islander     1039\n",
       "Amer-Indian-Eskimo      311\n",
       "Other                   271\n",
       "Name: race, dtype: int64"
      ]
     },
     "execution_count": 7,
     "metadata": {},
     "output_type": "execute_result"
    }
   ],
   "source": [
    "race_counts = df.race.value_counts()\n",
    "race_counts"
   ]
  },
  {
   "cell_type": "markdown",
   "id": "c659beb5",
   "metadata": {},
   "source": [
    "### # What is the average age of men?"
   ]
  },
  {
   "cell_type": "code",
   "execution_count": 8,
   "id": "31a4f456",
   "metadata": {},
   "outputs": [
    {
     "data": {
      "text/plain": [
       "Male    21790\n",
       "Name: sex, dtype: int64"
      ]
     },
     "execution_count": 8,
     "metadata": {},
     "output_type": "execute_result"
    }
   ],
   "source": [
    "# Using value_counts()\n",
    "num_men = df[df['sex'] == 'Male'].sex.value_counts()\n",
    "num_men"
   ]
  },
  {
   "cell_type": "code",
   "execution_count": 9,
   "id": "e4207024",
   "metadata": {
    "scrolled": false
   },
   "outputs": [
    {
     "data": {
      "text/plain": [
       "21790"
      ]
     },
     "execution_count": 9,
     "metadata": {},
     "output_type": "execute_result"
    }
   ],
   "source": [
    "# Using count() and query()\n",
    "num_men_2 = df.query(\"sex == 'Male'\").sex.count()\n",
    "num_men_2"
   ]
  },
  {
   "cell_type": "code",
   "execution_count": 10,
   "id": "aab11a92",
   "metadata": {},
   "outputs": [
    {
     "data": {
      "text/plain": [
       "sex\n",
       "Female    10771\n",
       "Male      21790\n",
       "Name: sex, dtype: int64"
      ]
     },
     "execution_count": 10,
     "metadata": {},
     "output_type": "execute_result"
    }
   ],
   "source": [
    "num_sex = df.groupby('sex').sex.count()\n",
    "num_sex"
   ]
  },
  {
   "cell_type": "code",
   "execution_count": 11,
   "id": "47ebc997",
   "metadata": {},
   "outputs": [
    {
     "data": {
      "text/plain": [
       "859257"
      ]
     },
     "execution_count": 11,
     "metadata": {},
     "output_type": "execute_result"
    }
   ],
   "source": [
    "age_sum_men = df.query(\"sex == 'Male'\").age.sum()\n",
    "age_sum_men"
   ]
  },
  {
   "cell_type": "code",
   "execution_count": 12,
   "id": "a081c0ed",
   "metadata": {},
   "outputs": [
    {
     "data": {
      "text/plain": [
       "sex\n",
       "Female    397000\n",
       "Male      859257\n",
       "Name: age, dtype: int64"
      ]
     },
     "execution_count": 12,
     "metadata": {},
     "output_type": "execute_result"
    }
   ],
   "source": [
    "# Using GroupBy\n",
    "age_sum = df.groupby(\"sex\").age.sum()\n",
    "age_sum"
   ]
  },
  {
   "cell_type": "code",
   "execution_count": 118,
   "id": "bc85df02",
   "metadata": {},
   "outputs": [
    {
     "data": {
      "text/plain": [
       "39.43354749885268"
      ]
     },
     "execution_count": 118,
     "metadata": {},
     "output_type": "execute_result"
    }
   ],
   "source": [
    "# Average age of men\n",
    "average_age_men = df.query(\"sex == 'Male'\").age.mean()\n",
    "average_age_men"
   ]
  },
  {
   "cell_type": "code",
   "execution_count": 14,
   "id": "7f09a56e",
   "metadata": {
    "scrolled": true
   },
   "outputs": [
    {
     "data": {
      "text/plain": [
       "39"
      ]
     },
     "execution_count": 14,
     "metadata": {},
     "output_type": "execute_result"
    }
   ],
   "source": [
    "# Rounding off the age to a whole number\n",
    "average_age_men = age_sum_men = df.query(\"sex == 'Male'\").age.mean()\n",
    "average_age_men = round(average_age_men)\n",
    "average_age_men"
   ]
  },
  {
   "cell_type": "markdown",
   "id": "1afe11ca",
   "metadata": {},
   "source": [
    "### # What is the percentage of people who have a Bachelor's degree?"
   ]
  },
  {
   "cell_type": "code",
   "execution_count": 15,
   "id": "1e4d6d79",
   "metadata": {},
   "outputs": [],
   "source": [
    "percentage_bachelors = None"
   ]
  },
  {
   "cell_type": "code",
   "execution_count": 16,
   "id": "bf609101",
   "metadata": {},
   "outputs": [
    {
     "data": {
      "text/plain": [
       "5355"
      ]
     },
     "execution_count": 16,
     "metadata": {},
     "output_type": "execute_result"
    }
   ],
   "source": [
    "bachelors_holder = df.query(\"education == 'Bachelors'\").education.count()\n",
    "bachelors_holder"
   ]
  },
  {
   "cell_type": "code",
   "execution_count": 17,
   "id": "3f41bf92",
   "metadata": {},
   "outputs": [
    {
     "data": {
      "text/plain": [
       "32561"
      ]
     },
     "execution_count": 17,
     "metadata": {},
     "output_type": "execute_result"
    }
   ],
   "source": [
    "#total_education = df.education.value_counts().sum()\n",
    "total_education = df.education.count()\n",
    "total_education"
   ]
  },
  {
   "cell_type": "code",
   "execution_count": 18,
   "id": "e3be8b95",
   "metadata": {},
   "outputs": [
    {
     "name": "stdout",
     "output_type": "stream",
     "text": [
      "16.45%\n"
     ]
    }
   ],
   "source": [
    "percentage_bachelors = (bachelors_holder / total_education) * 100\n",
    "\n",
    "# Print result and round off to 2 decimal places\n",
    "print(f\"{percentage_bachelors:.2f}%\")"
   ]
  },
  {
   "cell_type": "code",
   "execution_count": 19,
   "id": "ced7fb53",
   "metadata": {},
   "outputs": [
    {
     "name": "stdout",
     "output_type": "stream",
     "text": [
      "16.45%\n"
     ]
    }
   ],
   "source": [
    "# Using round() method\n",
    "percentage_bachelors = (bachelors_holder / total_education) * 100\n",
    "\n",
    "# Print result and round off to 2 decimal places\n",
    "result = round(percentage_bachelors, 2)\n",
    "print(f\"{result}%\")"
   ]
  },
  {
   "cell_type": "code",
   "execution_count": 120,
   "id": "e1e3d457",
   "metadata": {},
   "outputs": [
    {
     "data": {
      "text/plain": [
       "HS-grad         32.250238\n",
       "Some-college    22.391818\n",
       "Bachelors       16.446055\n",
       "Masters          5.291607\n",
       "Assoc-voc        4.244341\n",
       "11th             3.608612\n",
       "Assoc-acdm       3.276926\n",
       "10th             2.865391\n",
       "7th-8th          1.983969\n",
       "Prof-school      1.768987\n",
       "9th              1.578576\n",
       "12th             1.329812\n",
       "Doctorate        1.268389\n",
       "5th-6th          1.022696\n",
       "1st-4th          0.515955\n",
       "Preschool        0.156629\n",
       "Name: education, dtype: float64"
      ]
     },
     "execution_count": 120,
     "metadata": {},
     "output_type": "execute_result"
    }
   ],
   "source": [
    "percentage_bachelors = df.education.value_counts(normalize = True)*100\n",
    "percentage_bachelors"
   ]
  },
  {
   "cell_type": "code",
   "execution_count": null,
   "id": "17b81738",
   "metadata": {},
   "outputs": [],
   "source": []
  },
  {
   "cell_type": "markdown",
   "id": "af77ac26",
   "metadata": {},
   "source": [
    "### # What percentage of people with advanced education (`Bachelors`, `Masters`, or `Doctorate`) make more than 50K?"
   ]
  },
  {
   "cell_type": "code",
   "execution_count": 20,
   "id": "deea870a",
   "metadata": {},
   "outputs": [
    {
     "data": {
      "text/plain": [
       "age               7491\n",
       "workclass         7491\n",
       "fnlwgt            7491\n",
       "education         7491\n",
       "education-num     7491\n",
       "marital-status    7491\n",
       "occupation        7491\n",
       "relationship      7491\n",
       "race              7491\n",
       "sex               7491\n",
       "capital-gain      7491\n",
       "capital-loss      7491\n",
       "hours-per-week    7491\n",
       "native-country    7491\n",
       "salary            7491\n",
       "dtype: int64"
      ]
     },
     "execution_count": 20,
     "metadata": {},
     "output_type": "execute_result"
    }
   ],
   "source": [
    "# Check the number of advanced degree holders\n",
    "advanced_degree_holders = df.query(\"education.isin(['Bachelors', 'Masters', 'Doctorate'])\")\n",
    "\n",
    "advanced_degree_holders_count = df.query(\"education.isin(['Bachelors', 'Masters', 'Doctorate'])\").count()\n",
    "advanced_degree_holders_count"
   ]
  },
  {
   "cell_type": "code",
   "execution_count": 21,
   "id": "ac000d91",
   "metadata": {
    "scrolled": true
   },
   "outputs": [
    {
     "data": {
      "text/plain": [
       "Bachelors    5355\n",
       "Masters      1723\n",
       "Doctorate     413\n",
       "Name: education, dtype: int64"
      ]
     },
     "execution_count": 21,
     "metadata": {},
     "output_type": "execute_result"
    }
   ],
   "source": [
    "# Get the count according to each advanced degree group\n",
    "advanced_degree_holders_group_counts = df.query(\"education.isin(['Bachelors', 'Masters', 'Doctorate'])\").education.value_counts()\n",
    "advanced_degree_holders_group_counts"
   ]
  },
  {
   "cell_type": "code",
   "execution_count": 22,
   "id": "1eedf0b6",
   "metadata": {},
   "outputs": [
    {
     "data": {
      "text/plain": [
       "7491"
      ]
     },
     "execution_count": 22,
     "metadata": {},
     "output_type": "execute_result"
    }
   ],
   "source": [
    "advanced_degree_holders_group_counts_sum = df.query(\"education.isin(['Bachelors', 'Masters', 'Doctorate'])\").education.value_counts().sum()\n",
    "advanced_degree_holders_group_counts_sum"
   ]
  },
  {
   "cell_type": "code",
   "execution_count": 23,
   "id": "5d1faaa1",
   "metadata": {},
   "outputs": [
    {
     "data": {
      "text/plain": [
       "7491"
      ]
     },
     "execution_count": 23,
     "metadata": {},
     "output_type": "execute_result"
    }
   ],
   "source": [
    "# To confirm the result of the sum of advanced degree holders\n",
    "advanced_degree_holders_sum = advanced_degree_holders.education.count().sum()\n",
    "advanced_degree_holders_sum"
   ]
  },
  {
   "cell_type": "code",
   "execution_count": 24,
   "id": "7f2e9112",
   "metadata": {},
   "outputs": [
    {
     "data": {
      "text/plain": [
       "salary  education\n",
       "<=50K   Bachelors    3134\n",
       "        Masters       764\n",
       "        Doctorate     107\n",
       ">50K    Bachelors    2221\n",
       "        Masters       959\n",
       "        Doctorate     306\n",
       "Name: education, dtype: int64"
      ]
     },
     "execution_count": 24,
     "metadata": {},
     "output_type": "execute_result"
    }
   ],
   "source": [
    "advanced_degree_holders_salary = advanced_degree_holders.groupby('salary').education.value_counts()\n",
    "advanced_degree_holders_salary"
   ]
  },
  {
   "cell_type": "code",
   "execution_count": 25,
   "id": "3e74ee66",
   "metadata": {},
   "outputs": [
    {
     "data": {
      "text/plain": [
       "3486"
      ]
     },
     "execution_count": 25,
     "metadata": {},
     "output_type": "execute_result"
    }
   ],
   "source": [
    "advanced_degree_holders_salary_gt50k_sum = advanced_degree_holders.query(\"salary =='>50K'\").value_counts().sum()\n",
    "advanced_degree_holders_salary_gt50k_sum"
   ]
  },
  {
   "cell_type": "code",
   "execution_count": 26,
   "id": "12201321",
   "metadata": {},
   "outputs": [
    {
     "name": "stdout",
     "output_type": "stream",
     "text": [
      "46.54%\n"
     ]
    }
   ],
   "source": [
    "# Rounding the figure to 2 decimal places\n",
    "advanced_education_salary_gt50k_percentage = (advanced_degree_holders_salary_gt50k_sum / advanced_degree_holders_sum) * 100\n",
    "print(f\"{advanced_education_salary_gt50k_percentage:.2f}%\")"
   ]
  },
  {
   "cell_type": "markdown",
   "id": "224cb21e",
   "metadata": {},
   "source": [
    "### # What percentage of people without advanced education make more than 50K?"
   ]
  },
  {
   "cell_type": "code",
   "execution_count": 27,
   "id": "6341185e",
   "metadata": {},
   "outputs": [
    {
     "data": {
      "text/plain": [
       "HS-grad         10501\n",
       "Some-college     7291\n",
       "Bachelors        5355\n",
       "Masters          1723\n",
       "Assoc-voc        1382\n",
       "11th             1175\n",
       "Assoc-acdm       1067\n",
       "10th              933\n",
       "7th-8th           646\n",
       "Prof-school       576\n",
       "9th               514\n",
       "12th              433\n",
       "Doctorate         413\n",
       "5th-6th           333\n",
       "1st-4th           168\n",
       "Preschool          51\n",
       "Name: education, dtype: int64"
      ]
     },
     "execution_count": 27,
     "metadata": {},
     "output_type": "execute_result"
    }
   ],
   "source": [
    "df.education.value_counts()"
   ]
  },
  {
   "cell_type": "code",
   "execution_count": 28,
   "id": "092cb80f",
   "metadata": {},
   "outputs": [
    {
     "data": {
      "text/plain": [
       "25070"
      ]
     },
     "execution_count": 28,
     "metadata": {},
     "output_type": "execute_result"
    }
   ],
   "source": [
    "# without_advanced_degree\n",
    "without_advanced_degree = df.query(\"education.isin(['HS-grad', 'Some-college', 'Assoc-voc', '11th', 'Assoc-acdm', '10th', '7th-8th', 'Prof-school', '9th', '12th', '5th-6th', '1st-4th', 'Preschool'])\")\n",
    "without_advanced_degree_sum = without_advanced_degree.education.value_counts().sum()\n",
    "without_advanced_degree_sum"
   ]
  },
  {
   "cell_type": "code",
   "execution_count": 29,
   "id": "a0417a2a",
   "metadata": {},
   "outputs": [
    {
     "data": {
      "text/plain": [
       "4355"
      ]
     },
     "execution_count": 29,
     "metadata": {},
     "output_type": "execute_result"
    }
   ],
   "source": [
    "without_advanced_degree_gt50k_sum = without_advanced_degree.query(\"salary == '>50K'\").value_counts().sum()\n",
    "without_advanced_degree_gt50k_sum"
   ]
  },
  {
   "cell_type": "code",
   "execution_count": 30,
   "id": "151b463f",
   "metadata": {},
   "outputs": [
    {
     "name": "stdout",
     "output_type": "stream",
     "text": [
      "17.37%\n"
     ]
    }
   ],
   "source": [
    "without_advanced_degree_gt50k_percentage = (without_advanced_degree_gt50k_sum / without_advanced_degree_sum) * 100\n",
    "print(f\"{without_advanced_degree_gt50k_percentage:.2f}%\")"
   ]
  },
  {
   "cell_type": "markdown",
   "id": "89d4e706",
   "metadata": {},
   "source": [
    "### # with and without `Bachelors`, `Masters`, or `Doctorate`"
   ]
  },
  {
   "cell_type": "code",
   "execution_count": 31,
   "id": "518b4d41",
   "metadata": {},
   "outputs": [
    {
     "data": {
      "text/plain": [
       "7491"
      ]
     },
     "execution_count": 31,
     "metadata": {},
     "output_type": "execute_result"
    }
   ],
   "source": [
    "higher_education = advanced_degree_holders_group_counts_sum\n",
    "higher_education"
   ]
  },
  {
   "cell_type": "code",
   "execution_count": 32,
   "id": "c45914d0",
   "metadata": {
    "scrolled": true
   },
   "outputs": [
    {
     "data": {
      "text/plain": [
       "25070"
      ]
     },
     "execution_count": 32,
     "metadata": {},
     "output_type": "execute_result"
    }
   ],
   "source": [
    "lower_education = without_advanced_degree_sum\n",
    "lower_education"
   ]
  },
  {
   "cell_type": "markdown",
   "id": "fbc24219",
   "metadata": {},
   "source": [
    "### # People with salary >50K with advanced degrees and without advanced degrees."
   ]
  },
  {
   "cell_type": "code",
   "execution_count": 33,
   "id": "cd1eaea2",
   "metadata": {},
   "outputs": [
    {
     "data": {
      "text/plain": [
       "3486"
      ]
     },
     "execution_count": 33,
     "metadata": {},
     "output_type": "execute_result"
    }
   ],
   "source": [
    "higher_education_rich = advanced_degree_holders_salary_gt50k_sum\n",
    "higher_education_rich"
   ]
  },
  {
   "cell_type": "code",
   "execution_count": 34,
   "id": "ef0d7cc7",
   "metadata": {},
   "outputs": [
    {
     "data": {
      "text/plain": [
       "4355"
      ]
     },
     "execution_count": 34,
     "metadata": {},
     "output_type": "execute_result"
    }
   ],
   "source": [
    "lower_education_rich = without_advanced_degree_gt50k_sum\n",
    "lower_education_rich"
   ]
  },
  {
   "cell_type": "markdown",
   "id": "4b6ebdce",
   "metadata": {},
   "source": [
    "### # What is the minimum number of hours a person works per week (hours-per-week feature)?"
   ]
  },
  {
   "cell_type": "code",
   "execution_count": 35,
   "id": "2cc9894e",
   "metadata": {},
   "outputs": [
    {
     "data": {
      "text/plain": [
       "1"
      ]
     },
     "execution_count": 35,
     "metadata": {},
     "output_type": "execute_result"
    }
   ],
   "source": [
    "#df.head()\n",
    "min_work_hours = df['hours-per-week'].min()\n",
    "min_work_hours"
   ]
  },
  {
   "cell_type": "markdown",
   "id": "4be1b190",
   "metadata": {},
   "source": [
    "### # What percentage of the people who work the minimum number of hours per week have a salary of >50K?"
   ]
  },
  {
   "cell_type": "code",
   "execution_count": 36,
   "id": "6dbdaba6",
   "metadata": {
    "scrolled": false
   },
   "outputs": [
    {
     "data": {
      "text/plain": [
       "20"
      ]
     },
     "execution_count": 36,
     "metadata": {},
     "output_type": "execute_result"
    }
   ],
   "source": [
    "minimum_workers = df[df['hours-per-week'] == min_work_hours]\n",
    "\n",
    "num_min_workers = df[df['hours-per-week'] == min_work_hours].value_counts().sum()\n",
    "num_min_workers\n",
    "\n",
    "#num_min_workers = None"
   ]
  },
  {
   "cell_type": "code",
   "execution_count": 37,
   "id": "8569e034",
   "metadata": {},
   "outputs": [
    {
     "data": {
      "text/plain": [
       "2"
      ]
     },
     "execution_count": 37,
     "metadata": {},
     "output_type": "execute_result"
    }
   ],
   "source": [
    "num_min_workers_rich = minimum_workers.query(\"salary == '>50K'\").value_counts().sum()\n",
    "num_min_workers_rich"
   ]
  },
  {
   "cell_type": "code",
   "execution_count": 38,
   "id": "078b91b3",
   "metadata": {},
   "outputs": [
    {
     "name": "stdout",
     "output_type": "stream",
     "text": [
      "10.0%\n"
     ]
    }
   ],
   "source": [
    "# Percentage \n",
    "rich_percentage = (num_min_workers_rich / num_min_workers) * 100\n",
    "print(f\"{rich_percentage}%\")"
   ]
  },
  {
   "cell_type": "markdown",
   "id": "e930aefc",
   "metadata": {},
   "source": [
    "### # What country has the highest percentage of people that earn >50K?"
   ]
  },
  {
   "cell_type": "code",
   "execution_count": 100,
   "id": "100d5f64",
   "metadata": {},
   "outputs": [
    {
     "data": {
      "text/plain": [
       "native-country      salary\n",
       "?                   <=50K     74.957118\n",
       "                    >50K      25.042882\n",
       "Cambodia            <=50K     63.157895\n",
       "                    >50K      36.842105\n",
       "Canada              <=50K     67.768595\n",
       "                    >50K      32.231405\n",
       "China               <=50K     73.333333\n",
       "                    >50K      26.666667\n",
       "Columbia            <=50K     96.610169\n",
       "                    >50K       3.389831\n",
       "Cuba                <=50K     73.684211\n",
       "                    >50K      26.315789\n",
       "Dominican-Republic  <=50K     97.142857\n",
       "                    >50K       2.857143\n",
       "Ecuador             <=50K     85.714286\n",
       "                    >50K      14.285714\n",
       "El-Salvador         <=50K     91.509434\n",
       "                    >50K       8.490566\n",
       "England             <=50K     66.666667\n",
       "                    >50K      33.333333\n",
       "France              <=50K     58.620690\n",
       "                    >50K      41.379310\n",
       "Germany             <=50K     67.883212\n",
       "                    >50K      32.116788\n",
       "Greece              <=50K     72.413793\n",
       "                    >50K      27.586207\n",
       "Guatemala           <=50K     95.312500\n",
       "                    >50K       4.687500\n",
       "Haiti               <=50K     90.909091\n",
       "                    >50K       9.090909\n",
       "Name: salary, dtype: float64"
      ]
     },
     "execution_count": 100,
     "metadata": {},
     "output_type": "execute_result"
    }
   ],
   "source": [
    "new_df = df.groupby('native-country').salary.value_counts(normalize=True, sort=True)*100\n",
    "new_df.head(30)"
   ]
  },
  {
   "cell_type": "code",
   "execution_count": 106,
   "id": "43b5c78a",
   "metadata": {
    "scrolled": false
   },
   "outputs": [
    {
     "data": {
      "text/plain": [
       "native-country              salary\n",
       "Holand-Netherlands          <=50K     100.000000\n",
       "Outlying-US(Guam-USVI-etc)  <=50K     100.000000\n",
       "Dominican-Republic          <=50K      97.142857\n",
       "Columbia                    <=50K      96.610169\n",
       "Guatemala                   <=50K      95.312500\n",
       "Mexico                      <=50K      94.867807\n",
       "Nicaragua                   <=50K      94.117647\n",
       "Peru                        <=50K      93.548387\n",
       "Vietnam                     <=50K      92.537313\n",
       "Honduras                    <=50K      92.307692\n",
       "El-Salvador                 <=50K      91.509434\n",
       "Haiti                       <=50K      90.909091\n",
       "Puerto-Rico                 <=50K      89.473684\n",
       "Trinadad&Tobago             <=50K      89.473684\n",
       "Portugal                    <=50K      89.189189\n",
       "Laos                        <=50K      88.888889\n",
       "Jamaica                     <=50K      87.654321\n",
       "Ecuador                     <=50K      85.714286\n",
       "Thailand                    <=50K      83.333333\n",
       "Poland                      <=50K      80.000000\n",
       "South                       <=50K      80.000000\n",
       "Ireland                     <=50K      79.166667\n",
       "Hungary                     <=50K      76.923077\n",
       "United-States               <=50K      75.416524\n",
       "Scotland                    <=50K      75.000000\n",
       "?                           <=50K      74.957118\n",
       "Cuba                        <=50K      73.684211\n",
       "China                       <=50K      73.333333\n",
       "Greece                      <=50K      72.413793\n",
       "Hong                        <=50K      70.000000\n",
       "Philippines                 <=50K      69.191919\n",
       "Germany                     <=50K      67.883212\n",
       "Canada                      <=50K      67.768595\n",
       "England                     <=50K      66.666667\n",
       "Italy                       <=50K      65.753425\n",
       "Cambodia                    <=50K      63.157895\n",
       "Yugoslavia                  <=50K      62.500000\n",
       "Japan                       <=50K      61.290323\n",
       "Taiwan                      <=50K      60.784314\n",
       "India                       <=50K      60.000000\n",
       "France                      <=50K      58.620690\n",
       "Iran                        <=50K      58.139535\n",
       "                            >50K       41.860465\n",
       "France                      >50K       41.379310\n",
       "India                       >50K       40.000000\n",
       "Taiwan                      >50K       39.215686\n",
       "Japan                       >50K       38.709677\n",
       "Yugoslavia                  >50K       37.500000\n",
       "Cambodia                    >50K       36.842105\n",
       "Italy                       >50K       34.246575\n",
       "Name: salary, dtype: float64"
      ]
     },
     "execution_count": 106,
     "metadata": {},
     "output_type": "execute_result"
    }
   ],
   "source": [
    "new_df = df.groupby('native-country').salary.value_counts(normalize=True).nlargest(50)*100\n",
    "#new_df.sort_values(ascending=False)\n",
    "new_df"
   ]
  },
  {
   "cell_type": "markdown",
   "id": "8f1154d1",
   "metadata": {},
   "source": [
    "**Observation**\n",
    "\n",
    "Iran is the country with the largest percentage of rich people, i.e people who earn >50K compared to the whole population."
   ]
  },
  {
   "cell_type": "code",
   "execution_count": 117,
   "id": "e7c96544",
   "metadata": {},
   "outputs": [
    {
     "data": {
      "text/plain": [
       "native-country      salary\n",
       "United-States       <=50K     21999\n",
       "                    >50K       7171\n",
       "Mexico              <=50K       610\n",
       "?                   <=50K       437\n",
       "                    >50K        146\n",
       "                              ...  \n",
       "Trinadad&Tobago     >50K          2\n",
       "Columbia            >50K          2\n",
       "Laos                >50K          2\n",
       "Holand-Netherlands  <=50K         1\n",
       "Honduras            >50K          1\n",
       "Name: salary, Length: 82, dtype: int64"
      ]
     },
     "execution_count": 117,
     "metadata": {},
     "output_type": "execute_result"
    }
   ],
   "source": [
    "# Country with the largest number of those who earn >50K\n",
    "\n",
    "new_df = df.groupby('native-country')['salary'].value_counts()\n",
    "new_df.sort_values(ascending=False)\n",
    "#new_df"
   ]
  },
  {
   "cell_type": "markdown",
   "id": "0206887b",
   "metadata": {},
   "source": [
    "**Observation**\n",
    "\n",
    "The country with the largest number of rich people is United States i.e people who earn >50K compared to other contries."
   ]
  },
  {
   "cell_type": "markdown",
   "id": "90a07711",
   "metadata": {},
   "source": [
    " ### # Identify the most popular occupation for those who earn >50K in India."
   ]
  },
  {
   "cell_type": "code",
   "execution_count": 142,
   "id": "5738c075",
   "metadata": {
    "scrolled": false
   },
   "outputs": [
    {
     "data": {
      "text/plain": [
       "occupation         salary\n",
       "Adm-clerical       <=50K     10\n",
       "                   >50K       1\n",
       "Craft-repair       <=50K      5\n",
       "Exec-managerial    >50K       8\n",
       "                   <=50K      2\n",
       "Handlers-cleaners  <=50K      3\n",
       "Machine-op-inspct  <=50K      2\n",
       "Other-service      <=50K      2\n",
       "                   >50K       2\n",
       "Prof-specialty     >50K      25\n",
       "                   <=50K     15\n",
       "Protective-serv    <=50K      4\n",
       "Sales              <=50K     13\n",
       "                   >50K       1\n",
       "Tech-support       <=50K      3\n",
       "                   >50K       2\n",
       "Transport-moving   <=50K      1\n",
       "                   >50K       1\n",
       "Name: salary, dtype: int64"
      ]
     },
     "execution_count": 142,
     "metadata": {},
     "output_type": "execute_result"
    }
   ],
   "source": [
    "df_india = df[df['native-country'] == 'India']\n",
    "df_india = df_india.groupby(['occupation']).salary.value_counts()\n",
    "df_india"
   ]
  },
  {
   "cell_type": "code",
   "execution_count": 143,
   "id": "46bebe4d",
   "metadata": {},
   "outputs": [
    {
     "data": {
      "text/plain": [
       "occupation         salary\n",
       "Prof-specialty     >50K      25\n",
       "                   <=50K     15\n",
       "Sales              <=50K     13\n",
       "Adm-clerical       <=50K     10\n",
       "Exec-managerial    >50K       8\n",
       "Craft-repair       <=50K      5\n",
       "Protective-serv    <=50K      4\n",
       "Handlers-cleaners  <=50K      3\n",
       "Tech-support       <=50K      3\n",
       "Exec-managerial    <=50K      2\n",
       "Machine-op-inspct  <=50K      2\n",
       "Other-service      <=50K      2\n",
       "                   >50K       2\n",
       "Tech-support       >50K       2\n",
       "Adm-clerical       >50K       1\n",
       "Sales              >50K       1\n",
       "Transport-moving   <=50K      1\n",
       "                   >50K       1\n",
       "Name: salary, dtype: int64"
      ]
     },
     "execution_count": 143,
     "metadata": {},
     "output_type": "execute_result"
    }
   ],
   "source": [
    "df_india.sort_values(ascending = False)"
   ]
  },
  {
   "cell_type": "markdown",
   "id": "3ac85bf8",
   "metadata": {},
   "source": [
    "**Observation**\n",
    "\n",
    "The most popular occupation for those who earn >50K in India is Prof-specialty."
   ]
  },
  {
   "cell_type": "code",
   "execution_count": null,
   "id": "492fa760",
   "metadata": {},
   "outputs": [],
   "source": []
  }
 ],
 "metadata": {
  "kernelspec": {
   "display_name": "Python 3 (ipykernel)",
   "language": "python",
   "name": "python3"
  },
  "language_info": {
   "codemirror_mode": {
    "name": "ipython",
    "version": 3
   },
   "file_extension": ".py",
   "mimetype": "text/x-python",
   "name": "python",
   "nbconvert_exporter": "python",
   "pygments_lexer": "ipython3",
   "version": "3.9.12"
  }
 },
 "nbformat": 4,
 "nbformat_minor": 5
}
